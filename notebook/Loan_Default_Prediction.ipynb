{
  "nbformat": 4,
  "nbformat_minor": 0,
  "metadata": {
    "colab": {
      "provenance": []
    },
    "kernelspec": {
      "name": "python3",
      "display_name": "Python 3"
    },
    "language_info": {
      "name": "python"
    }
  },
  "cells": [
    {
      "cell_type": "markdown",
      "source": [
        "**🔹 Step 1: Problem Understanding & Dataset**"
      ],
      "metadata": {
        "id": "ZJZJ6OWt-HM0"
      }
    },
    {
      "cell_type": "code",
      "execution_count": null,
      "metadata": {
        "colab": {
          "base_uri": "https://localhost:8080/",
          "height": 201
        },
        "id": "hdDz5yju4y9v",
        "outputId": "68cd92c1-b8c8-4412-a3e8-50540099ba03"
      },
      "outputs": [
        {
          "output_type": "display_data",
          "data": {
            "text/plain": [
              "<IPython.core.display.HTML object>"
            ],
            "text/html": [
              "\n",
              "     <input type=\"file\" id=\"files-523fd913-1e73-4e41-9902-6b5d093bab47\" name=\"files[]\" multiple disabled\n",
              "        style=\"border:none\" />\n",
              "     <output id=\"result-523fd913-1e73-4e41-9902-6b5d093bab47\">\n",
              "      Upload widget is only available when the cell has been executed in the\n",
              "      current browser session. Please rerun this cell to enable.\n",
              "      </output>\n",
              "      <script>// Copyright 2017 Google LLC\n",
              "//\n",
              "// Licensed under the Apache License, Version 2.0 (the \"License\");\n",
              "// you may not use this file except in compliance with the License.\n",
              "// You may obtain a copy of the License at\n",
              "//\n",
              "//      http://www.apache.org/licenses/LICENSE-2.0\n",
              "//\n",
              "// Unless required by applicable law or agreed to in writing, software\n",
              "// distributed under the License is distributed on an \"AS IS\" BASIS,\n",
              "// WITHOUT WARRANTIES OR CONDITIONS OF ANY KIND, either express or implied.\n",
              "// See the License for the specific language governing permissions and\n",
              "// limitations under the License.\n",
              "\n",
              "/**\n",
              " * @fileoverview Helpers for google.colab Python module.\n",
              " */\n",
              "(function(scope) {\n",
              "function span(text, styleAttributes = {}) {\n",
              "  const element = document.createElement('span');\n",
              "  element.textContent = text;\n",
              "  for (const key of Object.keys(styleAttributes)) {\n",
              "    element.style[key] = styleAttributes[key];\n",
              "  }\n",
              "  return element;\n",
              "}\n",
              "\n",
              "// Max number of bytes which will be uploaded at a time.\n",
              "const MAX_PAYLOAD_SIZE = 100 * 1024;\n",
              "\n",
              "function _uploadFiles(inputId, outputId) {\n",
              "  const steps = uploadFilesStep(inputId, outputId);\n",
              "  const outputElement = document.getElementById(outputId);\n",
              "  // Cache steps on the outputElement to make it available for the next call\n",
              "  // to uploadFilesContinue from Python.\n",
              "  outputElement.steps = steps;\n",
              "\n",
              "  return _uploadFilesContinue(outputId);\n",
              "}\n",
              "\n",
              "// This is roughly an async generator (not supported in the browser yet),\n",
              "// where there are multiple asynchronous steps and the Python side is going\n",
              "// to poll for completion of each step.\n",
              "// This uses a Promise to block the python side on completion of each step,\n",
              "// then passes the result of the previous step as the input to the next step.\n",
              "function _uploadFilesContinue(outputId) {\n",
              "  const outputElement = document.getElementById(outputId);\n",
              "  const steps = outputElement.steps;\n",
              "\n",
              "  const next = steps.next(outputElement.lastPromiseValue);\n",
              "  return Promise.resolve(next.value.promise).then((value) => {\n",
              "    // Cache the last promise value to make it available to the next\n",
              "    // step of the generator.\n",
              "    outputElement.lastPromiseValue = value;\n",
              "    return next.value.response;\n",
              "  });\n",
              "}\n",
              "\n",
              "/**\n",
              " * Generator function which is called between each async step of the upload\n",
              " * process.\n",
              " * @param {string} inputId Element ID of the input file picker element.\n",
              " * @param {string} outputId Element ID of the output display.\n",
              " * @return {!Iterable<!Object>} Iterable of next steps.\n",
              " */\n",
              "function* uploadFilesStep(inputId, outputId) {\n",
              "  const inputElement = document.getElementById(inputId);\n",
              "  inputElement.disabled = false;\n",
              "\n",
              "  const outputElement = document.getElementById(outputId);\n",
              "  outputElement.innerHTML = '';\n",
              "\n",
              "  const pickedPromise = new Promise((resolve) => {\n",
              "    inputElement.addEventListener('change', (e) => {\n",
              "      resolve(e.target.files);\n",
              "    });\n",
              "  });\n",
              "\n",
              "  const cancel = document.createElement('button');\n",
              "  inputElement.parentElement.appendChild(cancel);\n",
              "  cancel.textContent = 'Cancel upload';\n",
              "  const cancelPromise = new Promise((resolve) => {\n",
              "    cancel.onclick = () => {\n",
              "      resolve(null);\n",
              "    };\n",
              "  });\n",
              "\n",
              "  // Wait for the user to pick the files.\n",
              "  const files = yield {\n",
              "    promise: Promise.race([pickedPromise, cancelPromise]),\n",
              "    response: {\n",
              "      action: 'starting',\n",
              "    }\n",
              "  };\n",
              "\n",
              "  cancel.remove();\n",
              "\n",
              "  // Disable the input element since further picks are not allowed.\n",
              "  inputElement.disabled = true;\n",
              "\n",
              "  if (!files) {\n",
              "    return {\n",
              "      response: {\n",
              "        action: 'complete',\n",
              "      }\n",
              "    };\n",
              "  }\n",
              "\n",
              "  for (const file of files) {\n",
              "    const li = document.createElement('li');\n",
              "    li.append(span(file.name, {fontWeight: 'bold'}));\n",
              "    li.append(span(\n",
              "        `(${file.type || 'n/a'}) - ${file.size} bytes, ` +\n",
              "        `last modified: ${\n",
              "            file.lastModifiedDate ? file.lastModifiedDate.toLocaleDateString() :\n",
              "                                    'n/a'} - `));\n",
              "    const percent = span('0% done');\n",
              "    li.appendChild(percent);\n",
              "\n",
              "    outputElement.appendChild(li);\n",
              "\n",
              "    const fileDataPromise = new Promise((resolve) => {\n",
              "      const reader = new FileReader();\n",
              "      reader.onload = (e) => {\n",
              "        resolve(e.target.result);\n",
              "      };\n",
              "      reader.readAsArrayBuffer(file);\n",
              "    });\n",
              "    // Wait for the data to be ready.\n",
              "    let fileData = yield {\n",
              "      promise: fileDataPromise,\n",
              "      response: {\n",
              "        action: 'continue',\n",
              "      }\n",
              "    };\n",
              "\n",
              "    // Use a chunked sending to avoid message size limits. See b/62115660.\n",
              "    let position = 0;\n",
              "    do {\n",
              "      const length = Math.min(fileData.byteLength - position, MAX_PAYLOAD_SIZE);\n",
              "      const chunk = new Uint8Array(fileData, position, length);\n",
              "      position += length;\n",
              "\n",
              "      const base64 = btoa(String.fromCharCode.apply(null, chunk));\n",
              "      yield {\n",
              "        response: {\n",
              "          action: 'append',\n",
              "          file: file.name,\n",
              "          data: base64,\n",
              "        },\n",
              "      };\n",
              "\n",
              "      let percentDone = fileData.byteLength === 0 ?\n",
              "          100 :\n",
              "          Math.round((position / fileData.byteLength) * 100);\n",
              "      percent.textContent = `${percentDone}% done`;\n",
              "\n",
              "    } while (position < fileData.byteLength);\n",
              "  }\n",
              "\n",
              "  // All done.\n",
              "  yield {\n",
              "    response: {\n",
              "      action: 'complete',\n",
              "    }\n",
              "  };\n",
              "}\n",
              "\n",
              "scope.google = scope.google || {};\n",
              "scope.google.colab = scope.google.colab || {};\n",
              "scope.google.colab._files = {\n",
              "  _uploadFiles,\n",
              "  _uploadFilesContinue,\n",
              "};\n",
              "})(self);\n",
              "</script> "
            ]
          },
          "metadata": {}
        },
        {
          "output_type": "stream",
          "name": "stdout",
          "text": [
            "Saving kaggle.json to kaggle.json\n",
            "Dataset URL: https://www.kaggle.com/datasets/kmldas/loan-default-prediction\n",
            "License(s): copyright-authors\n",
            "Downloading loan-default-prediction.zip to /content\n",
            "  0% 0.00/109k [00:00<?, ?B/s]\n",
            "100% 109k/109k [00:00<00:00, 340MB/s]\n",
            "Archive:  loan-default-prediction.zip\n",
            "  inflating: loan-default-prediction/Default_Fin.csv  \n"
          ]
        }
      ],
      "source": [
        "from google.colab import files\n",
        "\n",
        "# 1. Upload kaggle.json\n",
        "files.upload()\n",
        "\n",
        "# 2. Move kaggle.json to ~/.kaggle\n",
        "!mkdir -p ~/.kaggle\n",
        "!cp kaggle.json ~/.kaggle/\n",
        "!chmod 600 ~/.kaggle/kaggle.json\n",
        "\n",
        "# 3. Download Mall Customers dataset from Kaggle\n",
        "!kaggle datasets download -d kmldas/loan-default-prediction\n",
        "\n",
        "# 4. Unzip into a folder\n",
        "!unzip loan-default-prediction.zip -d loan-default-prediction\n"
      ]
    },
    {
      "cell_type": "markdown",
      "source": [
        "📌 Code for Dataset Import & Inspection"
      ],
      "metadata": {
        "id": "jGeQgfS_MTud"
      }
    },
    {
      "cell_type": "code",
      "source": [
        "import pandas as pd\n",
        "# Load dataset\n",
        "df = pd.read_csv('loan-default-prediction/Default_Fin.csv')\n",
        "\n",
        "# First look\n",
        "print(\"Shape:\", df.shape)\n",
        "print(\"Columns:\", df.columns.tolist())\n",
        "print(\"\\nInfo:\")\n",
        "print(df.info())\n",
        "print(\"\\nMissing values:\\n\", df.isnull().sum())\n",
        "\n",
        "# Drop unnecessary index column if present\n",
        "if \"Index\" in df.columns:\n",
        "    df = df.drop(\"Index\", axis=1)\n",
        "df.head()"
      ],
      "metadata": {
        "colab": {
          "base_uri": "https://localhost:8080/",
          "height": 660
        },
        "id": "27xDFf2e-PSf",
        "outputId": "3037b62d-1773-4bcf-93bc-3b3caace6ec9"
      },
      "execution_count": null,
      "outputs": [
        {
          "output_type": "stream",
          "name": "stdout",
          "text": [
            "Shape: (10000, 5)\n",
            "Columns: ['Index', 'Employed', 'Bank Balance', 'Annual Salary', 'Defaulted?']\n",
            "\n",
            "Info:\n",
            "<class 'pandas.core.frame.DataFrame'>\n",
            "RangeIndex: 10000 entries, 0 to 9999\n",
            "Data columns (total 5 columns):\n",
            " #   Column         Non-Null Count  Dtype  \n",
            "---  ------         --------------  -----  \n",
            " 0   Index          10000 non-null  int64  \n",
            " 1   Employed       10000 non-null  int64  \n",
            " 2   Bank Balance   10000 non-null  float64\n",
            " 3   Annual Salary  10000 non-null  float64\n",
            " 4   Defaulted?     10000 non-null  int64  \n",
            "dtypes: float64(2), int64(3)\n",
            "memory usage: 390.8 KB\n",
            "None\n",
            "\n",
            "Missing values:\n",
            " Index            0\n",
            "Employed         0\n",
            "Bank Balance     0\n",
            "Annual Salary    0\n",
            "Defaulted?       0\n",
            "dtype: int64\n"
          ]
        },
        {
          "output_type": "execute_result",
          "data": {
            "text/plain": [
              "   Employed  Bank Balance  Annual Salary  Defaulted?\n",
              "0         1       8754.36      532339.56           0\n",
              "1         0       9806.16      145273.56           0\n",
              "2         1      12882.60      381205.68           0\n",
              "3         1       6351.00      428453.88           0\n",
              "4         1       9427.92      461562.00           0"
            ],
            "text/html": [
              "\n",
              "  <div id=\"df-13c82bfe-12e6-4cdb-b1cc-7ea9f545e230\" class=\"colab-df-container\">\n",
              "    <div>\n",
              "<style scoped>\n",
              "    .dataframe tbody tr th:only-of-type {\n",
              "        vertical-align: middle;\n",
              "    }\n",
              "\n",
              "    .dataframe tbody tr th {\n",
              "        vertical-align: top;\n",
              "    }\n",
              "\n",
              "    .dataframe thead th {\n",
              "        text-align: right;\n",
              "    }\n",
              "</style>\n",
              "<table border=\"1\" class=\"dataframe\">\n",
              "  <thead>\n",
              "    <tr style=\"text-align: right;\">\n",
              "      <th></th>\n",
              "      <th>Employed</th>\n",
              "      <th>Bank Balance</th>\n",
              "      <th>Annual Salary</th>\n",
              "      <th>Defaulted?</th>\n",
              "    </tr>\n",
              "  </thead>\n",
              "  <tbody>\n",
              "    <tr>\n",
              "      <th>0</th>\n",
              "      <td>1</td>\n",
              "      <td>8754.36</td>\n",
              "      <td>532339.56</td>\n",
              "      <td>0</td>\n",
              "    </tr>\n",
              "    <tr>\n",
              "      <th>1</th>\n",
              "      <td>0</td>\n",
              "      <td>9806.16</td>\n",
              "      <td>145273.56</td>\n",
              "      <td>0</td>\n",
              "    </tr>\n",
              "    <tr>\n",
              "      <th>2</th>\n",
              "      <td>1</td>\n",
              "      <td>12882.60</td>\n",
              "      <td>381205.68</td>\n",
              "      <td>0</td>\n",
              "    </tr>\n",
              "    <tr>\n",
              "      <th>3</th>\n",
              "      <td>1</td>\n",
              "      <td>6351.00</td>\n",
              "      <td>428453.88</td>\n",
              "      <td>0</td>\n",
              "    </tr>\n",
              "    <tr>\n",
              "      <th>4</th>\n",
              "      <td>1</td>\n",
              "      <td>9427.92</td>\n",
              "      <td>461562.00</td>\n",
              "      <td>0</td>\n",
              "    </tr>\n",
              "  </tbody>\n",
              "</table>\n",
              "</div>\n",
              "    <div class=\"colab-df-buttons\">\n",
              "\n",
              "  <div class=\"colab-df-container\">\n",
              "    <button class=\"colab-df-convert\" onclick=\"convertToInteractive('df-13c82bfe-12e6-4cdb-b1cc-7ea9f545e230')\"\n",
              "            title=\"Convert this dataframe to an interactive table.\"\n",
              "            style=\"display:none;\">\n",
              "\n",
              "  <svg xmlns=\"http://www.w3.org/2000/svg\" height=\"24px\" viewBox=\"0 -960 960 960\">\n",
              "    <path d=\"M120-120v-720h720v720H120Zm60-500h600v-160H180v160Zm220 220h160v-160H400v160Zm0 220h160v-160H400v160ZM180-400h160v-160H180v160Zm440 0h160v-160H620v160ZM180-180h160v-160H180v160Zm440 0h160v-160H620v160Z\"/>\n",
              "  </svg>\n",
              "    </button>\n",
              "\n",
              "  <style>\n",
              "    .colab-df-container {\n",
              "      display:flex;\n",
              "      gap: 12px;\n",
              "    }\n",
              "\n",
              "    .colab-df-convert {\n",
              "      background-color: #E8F0FE;\n",
              "      border: none;\n",
              "      border-radius: 50%;\n",
              "      cursor: pointer;\n",
              "      display: none;\n",
              "      fill: #1967D2;\n",
              "      height: 32px;\n",
              "      padding: 0 0 0 0;\n",
              "      width: 32px;\n",
              "    }\n",
              "\n",
              "    .colab-df-convert:hover {\n",
              "      background-color: #E2EBFA;\n",
              "      box-shadow: 0px 1px 2px rgba(60, 64, 67, 0.3), 0px 1px 3px 1px rgba(60, 64, 67, 0.15);\n",
              "      fill: #174EA6;\n",
              "    }\n",
              "\n",
              "    .colab-df-buttons div {\n",
              "      margin-bottom: 4px;\n",
              "    }\n",
              "\n",
              "    [theme=dark] .colab-df-convert {\n",
              "      background-color: #3B4455;\n",
              "      fill: #D2E3FC;\n",
              "    }\n",
              "\n",
              "    [theme=dark] .colab-df-convert:hover {\n",
              "      background-color: #434B5C;\n",
              "      box-shadow: 0px 1px 3px 1px rgba(0, 0, 0, 0.15);\n",
              "      filter: drop-shadow(0px 1px 2px rgba(0, 0, 0, 0.3));\n",
              "      fill: #FFFFFF;\n",
              "    }\n",
              "  </style>\n",
              "\n",
              "    <script>\n",
              "      const buttonEl =\n",
              "        document.querySelector('#df-13c82bfe-12e6-4cdb-b1cc-7ea9f545e230 button.colab-df-convert');\n",
              "      buttonEl.style.display =\n",
              "        google.colab.kernel.accessAllowed ? 'block' : 'none';\n",
              "\n",
              "      async function convertToInteractive(key) {\n",
              "        const element = document.querySelector('#df-13c82bfe-12e6-4cdb-b1cc-7ea9f545e230');\n",
              "        const dataTable =\n",
              "          await google.colab.kernel.invokeFunction('convertToInteractive',\n",
              "                                                    [key], {});\n",
              "        if (!dataTable) return;\n",
              "\n",
              "        const docLinkHtml = 'Like what you see? Visit the ' +\n",
              "          '<a target=\"_blank\" href=https://colab.research.google.com/notebooks/data_table.ipynb>data table notebook</a>'\n",
              "          + ' to learn more about interactive tables.';\n",
              "        element.innerHTML = '';\n",
              "        dataTable['output_type'] = 'display_data';\n",
              "        await google.colab.output.renderOutput(dataTable, element);\n",
              "        const docLink = document.createElement('div');\n",
              "        docLink.innerHTML = docLinkHtml;\n",
              "        element.appendChild(docLink);\n",
              "      }\n",
              "    </script>\n",
              "  </div>\n",
              "\n",
              "\n",
              "    <div id=\"df-44efd14f-ac36-4b5b-828b-9af15d7b217b\">\n",
              "      <button class=\"colab-df-quickchart\" onclick=\"quickchart('df-44efd14f-ac36-4b5b-828b-9af15d7b217b')\"\n",
              "                title=\"Suggest charts\"\n",
              "                style=\"display:none;\">\n",
              "\n",
              "<svg xmlns=\"http://www.w3.org/2000/svg\" height=\"24px\"viewBox=\"0 0 24 24\"\n",
              "     width=\"24px\">\n",
              "    <g>\n",
              "        <path d=\"M19 3H5c-1.1 0-2 .9-2 2v14c0 1.1.9 2 2 2h14c1.1 0 2-.9 2-2V5c0-1.1-.9-2-2-2zM9 17H7v-7h2v7zm4 0h-2V7h2v10zm4 0h-2v-4h2v4z\"/>\n",
              "    </g>\n",
              "</svg>\n",
              "      </button>\n",
              "\n",
              "<style>\n",
              "  .colab-df-quickchart {\n",
              "      --bg-color: #E8F0FE;\n",
              "      --fill-color: #1967D2;\n",
              "      --hover-bg-color: #E2EBFA;\n",
              "      --hover-fill-color: #174EA6;\n",
              "      --disabled-fill-color: #AAA;\n",
              "      --disabled-bg-color: #DDD;\n",
              "  }\n",
              "\n",
              "  [theme=dark] .colab-df-quickchart {\n",
              "      --bg-color: #3B4455;\n",
              "      --fill-color: #D2E3FC;\n",
              "      --hover-bg-color: #434B5C;\n",
              "      --hover-fill-color: #FFFFFF;\n",
              "      --disabled-bg-color: #3B4455;\n",
              "      --disabled-fill-color: #666;\n",
              "  }\n",
              "\n",
              "  .colab-df-quickchart {\n",
              "    background-color: var(--bg-color);\n",
              "    border: none;\n",
              "    border-radius: 50%;\n",
              "    cursor: pointer;\n",
              "    display: none;\n",
              "    fill: var(--fill-color);\n",
              "    height: 32px;\n",
              "    padding: 0;\n",
              "    width: 32px;\n",
              "  }\n",
              "\n",
              "  .colab-df-quickchart:hover {\n",
              "    background-color: var(--hover-bg-color);\n",
              "    box-shadow: 0 1px 2px rgba(60, 64, 67, 0.3), 0 1px 3px 1px rgba(60, 64, 67, 0.15);\n",
              "    fill: var(--button-hover-fill-color);\n",
              "  }\n",
              "\n",
              "  .colab-df-quickchart-complete:disabled,\n",
              "  .colab-df-quickchart-complete:disabled:hover {\n",
              "    background-color: var(--disabled-bg-color);\n",
              "    fill: var(--disabled-fill-color);\n",
              "    box-shadow: none;\n",
              "  }\n",
              "\n",
              "  .colab-df-spinner {\n",
              "    border: 2px solid var(--fill-color);\n",
              "    border-color: transparent;\n",
              "    border-bottom-color: var(--fill-color);\n",
              "    animation:\n",
              "      spin 1s steps(1) infinite;\n",
              "  }\n",
              "\n",
              "  @keyframes spin {\n",
              "    0% {\n",
              "      border-color: transparent;\n",
              "      border-bottom-color: var(--fill-color);\n",
              "      border-left-color: var(--fill-color);\n",
              "    }\n",
              "    20% {\n",
              "      border-color: transparent;\n",
              "      border-left-color: var(--fill-color);\n",
              "      border-top-color: var(--fill-color);\n",
              "    }\n",
              "    30% {\n",
              "      border-color: transparent;\n",
              "      border-left-color: var(--fill-color);\n",
              "      border-top-color: var(--fill-color);\n",
              "      border-right-color: var(--fill-color);\n",
              "    }\n",
              "    40% {\n",
              "      border-color: transparent;\n",
              "      border-right-color: var(--fill-color);\n",
              "      border-top-color: var(--fill-color);\n",
              "    }\n",
              "    60% {\n",
              "      border-color: transparent;\n",
              "      border-right-color: var(--fill-color);\n",
              "    }\n",
              "    80% {\n",
              "      border-color: transparent;\n",
              "      border-right-color: var(--fill-color);\n",
              "      border-bottom-color: var(--fill-color);\n",
              "    }\n",
              "    90% {\n",
              "      border-color: transparent;\n",
              "      border-bottom-color: var(--fill-color);\n",
              "    }\n",
              "  }\n",
              "</style>\n",
              "\n",
              "      <script>\n",
              "        async function quickchart(key) {\n",
              "          const quickchartButtonEl =\n",
              "            document.querySelector('#' + key + ' button');\n",
              "          quickchartButtonEl.disabled = true;  // To prevent multiple clicks.\n",
              "          quickchartButtonEl.classList.add('colab-df-spinner');\n",
              "          try {\n",
              "            const charts = await google.colab.kernel.invokeFunction(\n",
              "                'suggestCharts', [key], {});\n",
              "          } catch (error) {\n",
              "            console.error('Error during call to suggestCharts:', error);\n",
              "          }\n",
              "          quickchartButtonEl.classList.remove('colab-df-spinner');\n",
              "          quickchartButtonEl.classList.add('colab-df-quickchart-complete');\n",
              "        }\n",
              "        (() => {\n",
              "          let quickchartButtonEl =\n",
              "            document.querySelector('#df-44efd14f-ac36-4b5b-828b-9af15d7b217b button');\n",
              "          quickchartButtonEl.style.display =\n",
              "            google.colab.kernel.accessAllowed ? 'block' : 'none';\n",
              "        })();\n",
              "      </script>\n",
              "    </div>\n",
              "\n",
              "    </div>\n",
              "  </div>\n"
            ],
            "application/vnd.google.colaboratory.intrinsic+json": {
              "type": "dataframe",
              "variable_name": "df",
              "summary": "{\n  \"name\": \"df\",\n  \"rows\": 10000,\n  \"fields\": [\n    {\n      \"column\": \"Employed\",\n      \"properties\": {\n        \"dtype\": \"number\",\n        \"std\": 0,\n        \"min\": 0,\n        \"max\": 1,\n        \"num_unique_values\": 2,\n        \"samples\": [\n          0,\n          1\n        ],\n        \"semantic_type\": \"\",\n        \"description\": \"\"\n      }\n    },\n    {\n      \"column\": \"Bank Balance\",\n      \"properties\": {\n        \"dtype\": \"number\",\n        \"std\": 5804.579485551093,\n        \"min\": 0.0,\n        \"max\": 31851.84,\n        \"num_unique_values\": 9227,\n        \"samples\": [\n          13885.68,\n          16187.52\n        ],\n        \"semantic_type\": \"\",\n        \"description\": \"\"\n      }\n    },\n    {\n      \"column\": \"Annual Salary\",\n      \"properties\": {\n        \"dtype\": \"number\",\n        \"std\": 160039.6749881727,\n        \"min\": 9263.64,\n        \"max\": 882650.76,\n        \"num_unique_values\": 9989,\n        \"samples\": [\n          289519.32,\n          169704.96\n        ],\n        \"semantic_type\": \"\",\n        \"description\": \"\"\n      }\n    },\n    {\n      \"column\": \"Defaulted?\",\n      \"properties\": {\n        \"dtype\": \"number\",\n        \"std\": 0,\n        \"min\": 0,\n        \"max\": 1,\n        \"num_unique_values\": 2,\n        \"samples\": [\n          1,\n          0\n        ],\n        \"semantic_type\": \"\",\n        \"description\": \"\"\n      }\n    }\n  ]\n}"
            }
          },
          "metadata": {},
          "execution_count": 4
        }
      ]
    },
    {
      "cell_type": "markdown",
      "source": [
        "**🔹 Step 2: Exploratory Data Analysis (EDA)**"
      ],
      "metadata": {
        "id": "HJ-K2WKH-Op5"
      }
    },
    {
      "cell_type": "markdown",
      "source": [
        "2.1 Target Variable Distribution"
      ],
      "metadata": {
        "id": "GKhyCXZRO47Q"
      }
    },
    {
      "cell_type": "code",
      "source": [
        "import matplotlib.pyplot as plt\n",
        "\n",
        "# Target column\n",
        "target_col = \"Defaulted?\"\n",
        "\n",
        "# Check class distribution\n",
        "plt.figure(figsize=(6,4))\n",
        "sns.countplot(x=target_col, data=df, palette=\"Set2\")\n",
        "plt.title(\"Loan Default Distribution\")\n",
        "plt.xlabel(\"Defaulted? (0 = No, 1 = Yes)\")\n",
        "plt.ylabel(\"Count\")\n",
        "plt.show()\n",
        "\n",
        "# Normalized ratio\n",
        "print(\"Class Distribution:\")\n",
        "print(df[target_col].value_counts(normalize=True))"
      ],
      "metadata": {
        "colab": {
          "base_uri": "https://localhost:8080/",
          "height": 237
        },
        "id": "XGbx1E35PMxT",
        "outputId": "c039836b-a343-424e-c358-7c0b105d3384"
      },
      "execution_count": null,
      "outputs": [
        {
          "output_type": "error",
          "ename": "NameError",
          "evalue": "name 'sns' is not defined",
          "traceback": [
            "\u001b[0;31m---------------------------------------------------------------------------\u001b[0m",
            "\u001b[0;31mNameError\u001b[0m                                 Traceback (most recent call last)",
            "\u001b[0;32m/tmp/ipython-input-1201717386.py\u001b[0m in \u001b[0;36m<cell line: 0>\u001b[0;34m()\u001b[0m\n\u001b[1;32m      6\u001b[0m \u001b[0;31m# Check class distribution\u001b[0m\u001b[0;34m\u001b[0m\u001b[0;34m\u001b[0m\u001b[0m\n\u001b[1;32m      7\u001b[0m \u001b[0mplt\u001b[0m\u001b[0;34m.\u001b[0m\u001b[0mfigure\u001b[0m\u001b[0;34m(\u001b[0m\u001b[0mfigsize\u001b[0m\u001b[0;34m=\u001b[0m\u001b[0;34m(\u001b[0m\u001b[0;36m6\u001b[0m\u001b[0;34m,\u001b[0m\u001b[0;36m4\u001b[0m\u001b[0;34m)\u001b[0m\u001b[0;34m)\u001b[0m\u001b[0;34m\u001b[0m\u001b[0;34m\u001b[0m\u001b[0m\n\u001b[0;32m----> 8\u001b[0;31m \u001b[0msns\u001b[0m\u001b[0;34m.\u001b[0m\u001b[0mcountplot\u001b[0m\u001b[0;34m(\u001b[0m\u001b[0mx\u001b[0m\u001b[0;34m=\u001b[0m\u001b[0mtarget_col\u001b[0m\u001b[0;34m,\u001b[0m \u001b[0mdata\u001b[0m\u001b[0;34m=\u001b[0m\u001b[0mdf\u001b[0m\u001b[0;34m,\u001b[0m \u001b[0mpalette\u001b[0m\u001b[0;34m=\u001b[0m\u001b[0;34m\"Set2\"\u001b[0m\u001b[0;34m)\u001b[0m\u001b[0;34m\u001b[0m\u001b[0;34m\u001b[0m\u001b[0m\n\u001b[0m\u001b[1;32m      9\u001b[0m \u001b[0mplt\u001b[0m\u001b[0;34m.\u001b[0m\u001b[0mtitle\u001b[0m\u001b[0;34m(\u001b[0m\u001b[0;34m\"Loan Default Distribution\"\u001b[0m\u001b[0;34m)\u001b[0m\u001b[0;34m\u001b[0m\u001b[0;34m\u001b[0m\u001b[0m\n\u001b[1;32m     10\u001b[0m \u001b[0mplt\u001b[0m\u001b[0;34m.\u001b[0m\u001b[0mxlabel\u001b[0m\u001b[0;34m(\u001b[0m\u001b[0;34m\"Defaulted? (0 = No, 1 = Yes)\"\u001b[0m\u001b[0;34m)\u001b[0m\u001b[0;34m\u001b[0m\u001b[0;34m\u001b[0m\u001b[0m\n",
            "\u001b[0;31mNameError\u001b[0m: name 'sns' is not defined"
          ]
        },
        {
          "output_type": "display_data",
          "data": {
            "text/plain": [
              "<Figure size 600x400 with 0 Axes>"
            ]
          },
          "metadata": {}
        }
      ]
    },
    {
      "cell_type": "markdown",
      "source": [
        "2.2 Numerical Feature Distributions"
      ],
      "metadata": {
        "id": "V1llTzVvXDGh"
      }
    },
    {
      "cell_type": "code",
      "source": [
        "num_cols = df.select_dtypes(include=['int64','float64']).columns.drop('Defaulted?')\n",
        "\n",
        "df[num_cols].hist(figsize=(12,8), bins=30)\n",
        "plt.suptitle(\"Distribution of Numerical Features\")\n",
        "plt.show()\n"
      ],
      "metadata": {
        "id": "ssDX9eaeXCF_"
      },
      "execution_count": null,
      "outputs": []
    },
    {
      "cell_type": "markdown",
      "source": [
        "2.3 Correlation Heatmap"
      ],
      "metadata": {
        "id": "y8Ex0tapXRqX"
      }
    },
    {
      "cell_type": "code",
      "source": [
        "import seaborn as sns\n",
        "plt.figure(figsize=(12,9))\n",
        "cormat = df.corr()\n",
        "sns.heatmap(cormat, cmap=\"coolwarm\", annot=False)\n",
        "plt.title(\"Correlation Heatmap\")\n",
        "plt.show()"
      ],
      "metadata": {
        "colab": {
          "base_uri": "https://localhost:8080/",
          "height": 776
        },
        "id": "H_5OQiL7XPyH",
        "outputId": "1447b611-6830-480a-e620-454f49141899"
      },
      "execution_count": null,
      "outputs": [
        {
          "output_type": "display_data",
          "data": {
            "text/plain": [
              "<Figure size 1200x900 with 2 Axes>"
            ],
            "image/png": "[encoded data removed]"
          },
          "metadata": {}
        }
      ]
    },
    {
      "cell_type": "markdown",
      "source": [
        "**🔹 Step 3: Feature Engineering**"
      ],
      "metadata": {
        "id": "cBIjR5t5-RN2"
      }
    },
    {
      "cell_type": "markdown",
      "source": [
        "✅ 3.1 Feature Creation (Domain Features)"
      ],
      "metadata": {
        "id": "eakltCUlpaH6"
      }
    },
    {
      "cell_type": "code",
      "source": [
        "import numpy as np\n",
        "\n",
        "# Add features first, THEN split\n",
        "df[\"Balance_to_Salary\"] = df[\"Bank Balance\"] / (df[\"Annual Salary\"] + 1)\n",
        "df[\"Log_Salary\"] = np.log1p(df[\"Annual Salary\"])\n",
        "df[\"Log_Balance\"] = np.log1p(df[\"Bank Balance\"])\n",
        "\n",
        "X = df.drop(\"Defaulted?\", axis=1)\n",
        "y = df[\"Defaulted?\"]\n",
        "\n",
        "# Now do the split"
      ],
      "metadata": {
        "id": "54CciVS9i9T4"
      },
      "execution_count": null,
      "outputs": []
    },
    {
      "cell_type": "markdown",
      "source": [
        "✅ 3.2 Train/Test Split (Prepare for Modeling) bold text"
      ],
      "metadata": {
        "id": "QhdTmPdEfUjz"
      }
    },
    {
      "cell_type": "code",
      "source": [
        "from sklearn.model_selection import train_test_split\n",
        "\n",
        "# First split: train + temp (val+test)\n",
        "X_train, X_temp, y_train, y_temp = train_test_split(\n",
        "    X, y, test_size=0.2, stratify=y, random_state=42\n",
        ")\n",
        "\n",
        "# Second split: val + test from temp\n",
        "X_val, X_test, y_val, y_test = train_test_split(\n",
        "    X_temp, y_temp, test_size=0.5, stratify=y_temp, random_state=42\n",
        ")\n",
        "\n",
        "print(\"Train shape:\", X_train.shape)\n",
        "print(\"Validation shape:\", X_val.shape)\n",
        "print(\"Test shape:\", X_test.shape)"
      ],
      "metadata": {
        "colab": {
          "base_uri": "https://localhost:8080/"
        },
        "id": "BR7gUp8q01GV",
        "outputId": "a0e1e0d5-7518-4e5a-debc-c9b0b0a7cb58"
      },
      "execution_count": null,
      "outputs": [
        {
          "output_type": "stream",
          "name": "stdout",
          "text": [
            "Train shape: (8000, 6)\n",
            "Validation shape: (1000, 6)\n",
            "Test shape: (1000, 6)\n"
          ]
        }
      ]
    },
    {
      "cell_type": "markdown",
      "source": [
        "🔹 3.3 Preprocessing Pipeline"
      ],
      "metadata": {
        "id": "fRC_gfaE2g0U"
      }
    },
    {
      "cell_type": "code",
      "source": [
        "from sklearn.pipeline import Pipeline\n",
        "from sklearn.preprocessing import StandardScaler\n",
        "from sklearn.linear_model import LogisticRegression\n",
        "from sklearn.ensemble import RandomForestClassifier\n",
        "from xgboost import XGBClassifier\n",
        "\n",
        "# Logistic Regression Pipeline (needs scaling)\n",
        "pipe_lr = Pipeline([\n",
        "    ('scaler', StandardScaler()),\n",
        "    ('model', LogisticRegression(max_iter=1000))\n",
        "])\n",
        "\n",
        "# Random Forest Pipeline (no scaler needed, but can still include for consistency)\n",
        "pipe_rf = Pipeline([\n",
        "    ('model', RandomForestClassifier(n_estimators=100, random_state=42))\n",
        "])\n",
        "\n",
        "# XGBoost Pipeline\n",
        "pipe_xgb = Pipeline([\n",
        "    ('model', XGBClassifier(n_estimators=100,  eval_metric='logloss', random_state=42))\n",
        "])"
      ],
      "metadata": {
        "id": "Z1gLRXsD1gVl"
      },
      "execution_count": null,
      "outputs": []
    },
    {
      "cell_type": "markdown",
      "source": [
        "**Step 4: Model Building & Hyperparameter Tuning**"
      ],
      "metadata": {
        "id": "OIliJutc-Y6Z"
      }
    },
    {
      "cell_type": "markdown",
      "source": [
        "✅ 4.0 Baseline Models (before tuning)"
      ],
      "metadata": {
        "id": "Bjbwd-dKs4yx"
      }
    },
    {
      "cell_type": "code",
      "source": [
        "baseline_models = {\n",
        "    \"Logistic Regression\": pipe_lr,\n",
        "    \"Random Forest\": pipe_rf,\n",
        "    \"XGBoost\": pipe_xgb\n",
        "}\n",
        "\n",
        "from sklearn.metrics import roc_auc_score\n",
        "\n",
        "for name, model in baseline_models.items():\n",
        "    model.fit(X_train, y_train)\n",
        "    proba = model.predict_proba(X_val)[:,1]\n",
        "    print(f\"{name} Baseline ROC-AUC: {roc_auc_score(y_val, proba):.3f}\")"
      ],
      "metadata": {
        "colab": {
          "base_uri": "https://localhost:8080/"
        },
        "id": "p3wwRqScGS4R",
        "outputId": "bf9e3128-6955-4960-f7e0-344f98e2f52a"
      },
      "execution_count": null,
      "outputs": [
        {
          "output_type": "stream",
          "name": "stdout",
          "text": [
            "Logistic Regression Baseline ROC-AUC: 0.945\n",
            "Random Forest Baseline ROC-AUC: 0.860\n",
            "XGBoost Baseline ROC-AUC: 0.885\n"
          ]
        }
      ]
    },
    {
      "cell_type": "markdown",
      "source": [
        "✅ 4.1 Logistic Regression Tuning"
      ],
      "metadata": {
        "id": "mPRTYaN78-Ke"
      }
    },
    {
      "cell_type": "code",
      "source": [
        "from sklearn.model_selection import GridSearchCV\n",
        "\n",
        "param_grid_lr = {\n",
        "    \"model__C\": [0.01, 0.1, 1, 10, 100],\n",
        "    \"model__penalty\": [\"l2\"],\n",
        "    \"model__solver\": [\"lbfgs\", \"liblinear\"]\n",
        "}\n",
        "\n",
        "grid_lr = GridSearchCV(pipe_lr, param_grid=param_grid_lr, cv=5, scoring=\"roc_auc\", n_jobs=-1)\n",
        "grid_lr.fit(X_train, y_train)\n",
        "\n",
        "print(\"Best Logistic Regression Params:\", grid_lr.best_params_)"
      ],
      "metadata": {
        "colab": {
          "base_uri": "https://localhost:8080/"
        },
        "id": "bcTDgqCGy1zB",
        "outputId": "36c7cbe3-9da5-4750-9dd1-d3dbcf7636be"
      },
      "execution_count": null,
      "outputs": [
        {
          "output_type": "stream",
          "name": "stdout",
          "text": [
            "Best Logistic Regression Params: {'model__C': 0.1, 'model__penalty': 'l2', 'model__solver': 'liblinear'}\n"
          ]
        }
      ]
    },
    {
      "cell_type": "markdown",
      "source": [
        "✅ 4.2 Random Forest Tuning"
      ],
      "metadata": {
        "id": "oTk1e5m69KxO"
      }
    },
    {
      "cell_type": "code",
      "source": [
        "from sklearn.model_selection import RandomizedSearchCV\n",
        "\n",
        "param_dist_rf = {\n",
        "    \"model__n_estimators\": [100, 200, 300, 500],\n",
        "    \"model__max_depth\": [None, 5, 10, 20],\n",
        "    \"model__min_samples_split\": [2, 5, 10],\n",
        "    \"model__min_samples_leaf\": [1, 2, 4],\n",
        "    \"model__bootstrap\": [True, False]\n",
        "}\n",
        "\n",
        "random_rf = RandomizedSearchCV(\n",
        "    pipe_rf, param_distributions=param_dist_rf,\n",
        "    n_iter=20, cv=5, scoring=\"roc_auc\", n_jobs=-1, random_state=42\n",
        ")\n",
        "random_rf.fit(X_train, y_train)\n",
        "\n",
        "print(\"Best Random Forest Params:\", random_rf.best_params_)\n"
      ],
      "metadata": {
        "colab": {
          "base_uri": "https://localhost:8080/"
        },
        "id": "FBs587R1EoEV",
        "outputId": "f446d580-0f80-4304-e210-5abfccb30a79"
      },
      "execution_count": null,
      "outputs": [
        {
          "output_type": "stream",
          "name": "stdout",
          "text": [
            "Best Random Forest Params: {'model__n_estimators': 100, 'model__min_samples_split': 10, 'model__min_samples_leaf': 2, 'model__max_depth': 5, 'model__bootstrap': True}\n"
          ]
        }
      ]
    },
    {
      "cell_type": "markdown",
      "source": [
        "✅ 4.3 XGBoost Tuning"
      ],
      "metadata": {
        "id": "9XGFNorF9OX0"
      }
    },
    {
      "cell_type": "code",
      "source": [
        "param_dist_xgb = {\n",
        "    \"model__n_estimators\": [100, 200, 300],\n",
        "    \"model__max_depth\": [3, 5, 7, 10],\n",
        "    \"model__learning_rate\": [0.01, 0.05, 0.1, 0.2],\n",
        "    \"model__subsample\": [0.6, 0.8, 1.0],\n",
        "    \"model__colsample_bytree\": [0.6, 0.8, 1.0]\n",
        "}\n",
        "\n",
        "random_xgb = RandomizedSearchCV(\n",
        "    pipe_xgb, param_distributions=param_dist_xgb,\n",
        "    n_iter=20, cv=5, scoring=\"roc_auc\", n_jobs=-1, random_state=42\n",
        ")\n",
        "random_xgb.fit(X_train, y_train)\n",
        "\n",
        "print(\"Best XGBoost Params:\", random_xgb.best_params_)\n"
      ],
      "metadata": {
        "colab": {
          "base_uri": "https://localhost:8080/"
        },
        "id": "inhywQRt9RgF",
        "outputId": "2b679afd-786f-4b46-ca1f-8685a5d659f7"
      },
      "execution_count": null,
      "outputs": [
        {
          "output_type": "stream",
          "name": "stdout",
          "text": [
            "Best XGBoost Params: {'model__subsample': 0.8, 'model__n_estimators': 200, 'model__max_depth': 3, 'model__learning_rate': 0.01, 'model__colsample_bytree': 0.8}\n"
          ]
        }
      ]
    },
    {
      "cell_type": "markdown",
      "source": [
        "**🔹 Step 5: Model Evaluation**"
      ],
      "metadata": {
        "id": "uP3Z1HEHEzD-"
      }
    },
    {
      "cell_type": "code",
      "source": [
        "from sklearn.metrics import (\n",
        "    classification_report, roc_auc_score, average_precision_score,\n",
        "    precision_recall_curve, roc_curve, f1_score\n",
        ")\n",
        "import matplotlib.pyplot as plt\n",
        "import pandas as pd\n",
        "\n",
        "# Tuned models\n",
        "models = {\n",
        "    \"Logistic Regression\": grid_lr.best_estimator_,\n",
        "    \"Random Forest\": random_rf.best_estimator_,\n",
        "    \"XGBoost\": random_xgb.best_estimator_\n",
        "}\n",
        "\n",
        "# 5.1 Compare metrics\n",
        "results = []\n",
        "for name, model in models.items():\n",
        "    preds = model.predict(X_test)\n",
        "    proba = model.predict_proba(X_test)[:,1]\n",
        "\n",
        "    roc_auc = roc_auc_score(y_test, proba)\n",
        "    pr_auc = average_precision_score(y_test, proba)\n",
        "    f1 = f1_score(y_test, preds)\n",
        "\n",
        "    print(f\"\\n{name} Performance\")\n",
        "    print(classification_report(y_test, preds))\n",
        "    results.append([name, roc_auc, pr_auc, f1])\n",
        "\n",
        "results_df = pd.DataFrame(results, columns=[\"Model\", \"ROC-AUC\", \"PR-AUC\", \"F1\"])\n",
        "print(\"\\n📊 Model Comparison:\\n\", results_df)"
      ],
      "metadata": {
        "colab": {
          "base_uri": "https://localhost:8080/"
        },
        "id": "jN6__HsV9Cgn",
        "outputId": "14013828-9a37-486d-a08c-1e3cf8463b64"
      },
      "execution_count": null,
      "outputs": [
        {
          "output_type": "stream",
          "name": "stdout",
          "text": [
            "\n",
            "Logistic Regression Performance\n",
            "              precision    recall  f1-score   support\n",
            "\n",
            "           0       0.98      1.00      0.99       967\n",
            "           1       0.75      0.27      0.40        33\n",
            "\n",
            "    accuracy                           0.97      1000\n",
            "   macro avg       0.86      0.63      0.69      1000\n",
            "weighted avg       0.97      0.97      0.97      1000\n",
            "\n",
            "\n",
            "Random Forest Performance\n",
            "              precision    recall  f1-score   support\n",
            "\n",
            "           0       0.98      0.99      0.99       967\n",
            "           1       0.63      0.36      0.46        33\n",
            "\n",
            "    accuracy                           0.97      1000\n",
            "   macro avg       0.81      0.68      0.72      1000\n",
            "weighted avg       0.97      0.97      0.97      1000\n",
            "\n",
            "\n",
            "XGBoost Performance\n",
            "              precision    recall  f1-score   support\n",
            "\n",
            "           0       0.98      1.00      0.99       967\n",
            "           1       0.73      0.33      0.46        33\n",
            "\n",
            "    accuracy                           0.97      1000\n",
            "   macro avg       0.86      0.66      0.72      1000\n",
            "weighted avg       0.97      0.97      0.97      1000\n",
            "\n",
            "\n",
            "📊 Model Comparison:\n",
            "                  Model   ROC-AUC    PR-AUC        F1\n",
            "0  Logistic Regression  0.953464  0.536803  0.400000\n",
            "1        Random Forest  0.949845  0.462720  0.461538\n",
            "2              XGBoost  0.952179  0.537744  0.458333\n"
          ]
        }
      ]
    },
    {
      "cell_type": "code",
      "source": [
        "# 5.2 ROC Curve\n",
        "plt.figure(figsize=(7,6))\n",
        "for name, model in models.items():\n",
        "    proba = model.predict_proba(X_test)[:,1]\n",
        "    fpr, tpr, _ = roc_curve(y_test, proba)\n",
        "    plt.plot(fpr, tpr, label=f\"{name} (AUC={roc_auc_score(y_test, proba):.3f})\")\n",
        "\n",
        "plt.plot([0,1],[0,1],'k--')\n",
        "plt.xlabel(\"False Positive Rate\")\n",
        "plt.ylabel(\"True Positive Rate\")\n",
        "plt.title(\"ROC Curve\")\n",
        "plt.legend()\n",
        "plt.show()"
      ],
      "metadata": {
        "colab": {
          "base_uri": "https://localhost:8080/",
          "height": 564
        },
        "id": "U6sUCDjH-gVH",
        "outputId": "e8b0b154-bd5c-4301-a858-41cd5b92ab02"
      },
      "execution_count": null,
      "outputs": [
        {
          "output_type": "display_data",
          "data": {
            "text/plain": [
              "<Figure size 700x600 with 1 Axes>"
            ],
            "image/png": "[encoded data removed]"
          },
          "metadata": {}
        }
      ]
    },
    {
      "cell_type": "code",
      "source": [
        "# 5.3 Precision-Recall Curve\n",
        "plt.figure(figsize=(7,6))\n",
        "for name, model in models.items():\n",
        "    proba = model.predict_proba(X_test)[:,1]\n",
        "    precision, recall, _ = precision_recall_curve(y_test, proba)\n",
        "    plt.plot(recall, precision, label=f\"{name} (AP={average_precision_score(y_test, proba):.3f})\")\n",
        "\n",
        "plt.xlabel(\"Recall\")\n",
        "plt.ylabel(\"Precision\")\n",
        "plt.title(\"Precision-Recall Curve\")\n",
        "plt.legend()\n",
        "plt.show()"
      ],
      "metadata": {
        "colab": {
          "base_uri": "https://localhost:8080/",
          "height": 564
        },
        "id": "7fL9ghrUE-ww",
        "outputId": "0c6b0257-8233-4977-e16e-2ca3bd81339e"
      },
      "execution_count": null,
      "outputs": [
        {
          "output_type": "display_data",
          "data": {
            "text/plain": [
              "<Figure size 700x600 with 1 Axes>"
            ],
            "image/png": "[encoded data removed]"
          },
          "metadata": {}
        }
      ]
    },
    {
      "cell_type": "markdown",
      "source": [
        "**🔹 Step 6: Deployment (Flask + Docker)**"
      ],
      "metadata": {
        "id": "_XksUjoH-mTk"
      }
    },
    {
      "cell_type": "markdown",
      "source": [
        "✅ 6.1 Export Best Model"
      ],
      "metadata": {
        "id": "fcN3e5g1CUxh"
      }
    },
    {
      "cell_type": "code",
      "source": [
        "import joblib\n",
        "# Pick best model manually or use results_df to select\n",
        "best_model = random_xgb.best_estimator_\n",
        "\n",
        "joblib.dump(best_model, \"loan_default_model.pkl\")\n",
        "print(\"✅ Model saved as loan_default_model.pkl\")"
      ],
      "metadata": {
        "id": "hSpGBq_h-m6H",
        "colab": {
          "base_uri": "https://localhost:8080/"
        },
        "outputId": "9d09cc6b-a12f-486a-eb5a-ed07b6053a4e"
      },
      "execution_count": null,
      "outputs": [
        {
          "output_type": "stream",
          "name": "stdout",
          "text": [
            "✅ Model saved as loan_default_model.pkl\n"
          ]
        }
      ]
    },
    {
      "cell_type": "markdown",
      "source": [
        "✅ 6.2 Flask API (app.py)"
      ],
      "metadata": {
        "id": "VZBfWKC-CX_K"
      }
    },
    {
      "cell_type": "markdown",
      "source": [
        "**🔹 Step 7: Resume-Ready Output**"
      ],
      "metadata": {
        "id": "1oQfFR8A-o7M"
      }
    }
  ]
}